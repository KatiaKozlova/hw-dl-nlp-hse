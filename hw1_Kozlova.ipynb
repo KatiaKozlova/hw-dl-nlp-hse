{
  "cells": [
    {
      "cell_type": "markdown",
      "metadata": {
        "id": "IQwlunyE86kE"
      },
      "source": [
        "# 1. Практическое задание. Обучение полносвязной нейронной сети.\n",
        "\n",
        "**ФИО**: *Козлова Екатерина Руслановна*"
      ]
    },
    {
      "cell_type": "code",
      "execution_count": 7,
      "metadata": {
        "id": "UyCGfNgA86kF"
      },
      "outputs": [],
      "source": [
        "import numpy as np\n",
        "import torch\n",
        "import cv2\n",
        "import random\n",
        "from tqdm.auto import tqdm\n",
        "from tqdm import trange\n",
        "from statistics import mean\n",
        "\n",
        "from glob import glob\n",
        "from collections import OrderedDict\n",
        "from matplotlib import pyplot as plt\n",
        "\n",
        "from torch import nn\n",
        "from torch.autograd import Function\n",
        "from torch.autograd.gradcheck import gradcheck\n",
        "from torch.optim import Optimizer, Adam\n",
        "from torch.utils.data import Dataset, DataLoader\n",
        "from torchvision import datasets\n",
        "from torchvision import transforms"
      ]
    },
    {
      "cell_type": "markdown",
      "metadata": {
        "id": "uFaWrLT4GkfY"
      },
      "source": [
        "## 1. Загрузка данных (2 балла)"
      ]
    },
    {
      "cell_type": "markdown",
      "metadata": {
        "id": "R930jTYMG6nB"
      },
      "source": [
        "Если вам требуется работать с каким-нибубь набором данных (dataset), то прежде всего проверьте нет ли его среди встроенных наборов данных https://pytorch.org/vision/stable/datasets.html.\n",
        "\n",
        "В текущем домашнем задании мы будем работать с набором данных FashionMNIST. Это не совсем про тексты, но зато он численный и его можно вытянуть в вектор. Это легко и полезно, чтобы отработать разные приемы. Он присутствует в списке встроенных наборов данных, однако мы воспользуемся реализацией только для удобного и быстрого способа скачать наборы данных. Ниже предлагается реализовать собственный класс для считывания, обработки и упаковки данных."
      ]
    },
    {
      "cell_type": "code",
      "execution_count": 8,
      "metadata": {
        "colab": {
          "base_uri": "https://localhost:8080/"
        },
        "id": "LauGpMvGF5qr",
        "outputId": "cc5df369-a16a-4f66-8620-00968be4db51"
      },
      "outputs": [
        {
          "output_type": "stream",
          "name": "stdout",
          "text": [
            "Downloading http://fashion-mnist.s3-website.eu-central-1.amazonaws.com/train-images-idx3-ubyte.gz\n",
            "Downloading http://fashion-mnist.s3-website.eu-central-1.amazonaws.com/train-images-idx3-ubyte.gz to data/FashionMNIST/raw/train-images-idx3-ubyte.gz\n"
          ]
        },
        {
          "output_type": "stream",
          "name": "stderr",
          "text": [
            "100%|██████████| 26421880/26421880 [00:01<00:00, 18707102.16it/s]\n"
          ]
        },
        {
          "output_type": "stream",
          "name": "stdout",
          "text": [
            "Extracting data/FashionMNIST/raw/train-images-idx3-ubyte.gz to data/FashionMNIST/raw\n",
            "\n",
            "Downloading http://fashion-mnist.s3-website.eu-central-1.amazonaws.com/train-labels-idx1-ubyte.gz\n",
            "Downloading http://fashion-mnist.s3-website.eu-central-1.amazonaws.com/train-labels-idx1-ubyte.gz to data/FashionMNIST/raw/train-labels-idx1-ubyte.gz\n"
          ]
        },
        {
          "output_type": "stream",
          "name": "stderr",
          "text": [
            "100%|██████████| 29515/29515 [00:00<00:00, 304564.68it/s]\n"
          ]
        },
        {
          "output_type": "stream",
          "name": "stdout",
          "text": [
            "Extracting data/FashionMNIST/raw/train-labels-idx1-ubyte.gz to data/FashionMNIST/raw\n",
            "\n",
            "Downloading http://fashion-mnist.s3-website.eu-central-1.amazonaws.com/t10k-images-idx3-ubyte.gz\n",
            "Downloading http://fashion-mnist.s3-website.eu-central-1.amazonaws.com/t10k-images-idx3-ubyte.gz to data/FashionMNIST/raw/t10k-images-idx3-ubyte.gz\n"
          ]
        },
        {
          "output_type": "stream",
          "name": "stderr",
          "text": [
            "100%|██████████| 4422102/4422102 [00:00<00:00, 5384616.53it/s]\n"
          ]
        },
        {
          "output_type": "stream",
          "name": "stdout",
          "text": [
            "Extracting data/FashionMNIST/raw/t10k-images-idx3-ubyte.gz to data/FashionMNIST/raw\n",
            "\n",
            "Downloading http://fashion-mnist.s3-website.eu-central-1.amazonaws.com/t10k-labels-idx1-ubyte.gz\n",
            "Downloading http://fashion-mnist.s3-website.eu-central-1.amazonaws.com/t10k-labels-idx1-ubyte.gz to data/FashionMNIST/raw/t10k-labels-idx1-ubyte.gz\n"
          ]
        },
        {
          "output_type": "stream",
          "name": "stderr",
          "text": [
            "100%|██████████| 5148/5148 [00:00<00:00, 16738199.22it/s]\n"
          ]
        },
        {
          "output_type": "stream",
          "name": "stdout",
          "text": [
            "Extracting data/FashionMNIST/raw/t10k-labels-idx1-ubyte.gz to data/FashionMNIST/raw\n",
            "\n"
          ]
        }
      ],
      "source": [
        "training_data = datasets.FashionMNIST(\n",
        "    root=\"data\",\n",
        "    train=True,\n",
        "    download=True\n",
        ")\n",
        "\n",
        "test_data = datasets.FashionMNIST(\n",
        "    root=\"data\",\n",
        "    train=False,\n",
        "    download=True\n",
        ")"
      ]
    },
    {
      "cell_type": "markdown",
      "metadata": {
        "id": "RIT32OCMaLLP"
      },
      "source": [
        "Воспользуемся функцией загрузки данных из репозитория наборов данных."
      ]
    },
    {
      "cell_type": "code",
      "execution_count": 9,
      "metadata": {
        "colab": {
          "base_uri": "https://localhost:8080/"
        },
        "id": "Fm_cf_hEIapm",
        "outputId": "42765b70-37e1-4881-d988-9ae7d8b0ad2e"
      },
      "outputs": [
        {
          "output_type": "stream",
          "name": "stdout",
          "text": [
            "t10k-images-idx3-ubyte\t   t10k-labels-idx1-ubyte.gz   train-labels-idx1-ubyte\n",
            "t10k-images-idx3-ubyte.gz  train-images-idx3-ubyte     train-labels-idx1-ubyte.gz\n",
            "t10k-labels-idx1-ubyte\t   train-images-idx3-ubyte.gz\n"
          ]
        }
      ],
      "source": [
        "! ls data/FashionMNIST/raw"
      ]
    },
    {
      "cell_type": "code",
      "execution_count": 10,
      "metadata": {
        "id": "-xnY5xk1KBg2"
      },
      "outputs": [],
      "source": [
        "#https://github.com/zalandoresearch/fashion-mnist/blob/master/utils/mnist_reader.py\n",
        "\n",
        "def load_mnist(path, kind='train'):\n",
        "    import os\n",
        "    import gzip\n",
        "    import numpy as np\n",
        "\n",
        "    \"\"\"Load MNIST data from `path`\"\"\"\n",
        "    labels_path = os.path.join(path,\n",
        "                               '%s-labels-idx1-ubyte.gz'\n",
        "                               % kind)\n",
        "    images_path = os.path.join(path,\n",
        "                               '%s-images-idx3-ubyte.gz'\n",
        "                               % kind)\n",
        "\n",
        "    with gzip.open(labels_path, 'rb') as lbpath:\n",
        "        labels = np.frombuffer(lbpath.read(), dtype=np.uint8,\n",
        "                               offset=8)\n",
        "\n",
        "    with gzip.open(images_path, 'rb') as imgpath:\n",
        "        images = np.frombuffer(imgpath.read(), dtype=np.uint8,\n",
        "                               offset=16).reshape(len(labels), 784)\n",
        "\n",
        "    return images, labels"
      ]
    },
    {
      "cell_type": "markdown",
      "metadata": {
        "id": "qHIlWRV0aZnA"
      },
      "source": [
        "Для удобства PyTorch предоставляет ряд базовых классов `Dataset, DataLoader`, от которых предлагается отнаследоваться при разработке пользовательских классов. Базовый класс `Dataset` используется для загрузки и обработки данных, класс `DataLoader` используется для управления процессом загрузки данных, позволяет в многопоточном режиме загружать данные и упаковывать их.\n",
        "Эти вспомогательные классы находятся в модуле `torch.utils.data`.\n",
        "\n",
        "При наследовании от класса `torch.utils.data.Dataset` требуется переопределить метод `__len__`, который возвращает количество примеров в наборе данных, а также метод `__getitem__`, который позволяет получить доступ к примеру из набора данных по индексу."
      ]
    },
    {
      "cell_type": "markdown",
      "metadata": {
        "id": "3jf2e5cPbJV2"
      },
      "source": [
        "Реализуем класс для FasionMnist.\n",
        "\n",
        "Элементами датасета должны являться пары '(np.array, int)', массив имеет размерность `(28, 28)`, тип элемента `np.float32`."
      ]
    },
    {
      "cell_type": "code",
      "execution_count": 11,
      "metadata": {
        "id": "snTBHRTQI1bc"
      },
      "outputs": [],
      "source": [
        "import os\n",
        "\n",
        "class FashionMnist(Dataset):\n",
        "    def __init__(self, path, train=True, image_transform=None,\n",
        "                 label_transform=None):\n",
        "        if train:\n",
        "            self.n = load_mnist(path, 'train')[1].shape[0]\n",
        "            if image_transform and label_transform:\n",
        "                transformed_image = image_transform(load_mnist(path, 'train')[0])\n",
        "                transformed_label = label_transform(load_mnist(path, 'train')[1])\n",
        "                self.dataset = list(zip(transformed_image, transformed_label))\n",
        "            else:\n",
        "                self.dataset = list(zip(load_mnist(path, 'train')[0], load_mnist(path, 'train')[1]))\n",
        "        else:\n",
        "            self.n = load_mnist(path, 't10k')[1].shape[0]\n",
        "            if image_transform and label_transform:\n",
        "                transformed_image = image_transform(load_mnist(path, 't10k')[0])\n",
        "                transformed_label = label_transform(load_mnist(path, 't10k')[1])\n",
        "                self.dataset = list(zip(transformed_image, transformed_label))\n",
        "            else:\n",
        "                self.dataset = list(zip(load_mnist(path, 't10k')[0], load_mnist(path, 't10k')[1]))\n",
        "\n",
        "\n",
        "    def __len__(self,):\n",
        "        return self.n\n",
        "\n",
        "\n",
        "    def __getitem__(self, idx):\n",
        "        return self.dataset[idx]"
      ]
    },
    {
      "cell_type": "code",
      "execution_count": 12,
      "metadata": {
        "id": "XVGv_2zBNfpz"
      },
      "outputs": [],
      "source": [
        "test_dataset = FashionMnist(\"data/FashionMNIST/raw\", train=False)\n",
        "train_dataset = FashionMnist(\"data/FashionMNIST/raw\")"
      ]
    },
    {
      "cell_type": "markdown",
      "metadata": {
        "id": "JciETIfndiGR"
      },
      "source": [
        "Визуализируйте случайные элементы набора данных."
      ]
    },
    {
      "cell_type": "code",
      "source": [
        "for i in [0, 1]:\n",
        "    plt.subplot(1, 2, i + 1)\n",
        "    rand_n = random.randint(0, len(train_dataset)- 1)\n",
        "    plt.imshow(train_dataset[rand_n][0].reshape([28, 28]))\n",
        "    plt.title(str(train_dataset[rand_n][1]))\n",
        "plt.show()"
      ],
      "metadata": {
        "colab": {
          "base_uri": "https://localhost:8080/",
          "height": 308
        },
        "id": "UWUPl28IRLpe",
        "outputId": "15c44a9f-748f-4069-e411-22291a23873b"
      },
      "execution_count": 15,
      "outputs": [
        {
          "output_type": "display_data",
          "data": {
            "text/plain": [
              "<Figure size 640x480 with 2 Axes>"
            ],
            "image/png": "[encoded data removed]"
          },
          "metadata": {}
        }
      ]
    },
    {
      "cell_type": "markdown",
      "metadata": {
        "id": "320RvzL7PZrI"
      },
      "source": [
        "В конструктор `Dataset` можно передать объект `torchvision.transforms`, который позволяет преобразовать исходные данные. Преобразование `torchvision.transforms.ToTensor` позволяет преобразоать данные из типа `PIL Image` и `numpy.float32` в тип `torch.float32`\n",
        "\n",
        "Реализуйте собственную поддержку преобразований в `FashionMnist`. Проверьте, что приведение типов работает корректно."
      ]
    },
    {
      "cell_type": "code",
      "execution_count": 37,
      "metadata": {
        "id": "pQsGbfXUTxcx"
      },
      "outputs": [],
      "source": [
        "class ToTensor:\n",
        "    \"\"\"Convert ndarrays in sample to Tensors.\"\"\"\n",
        "\n",
        "    def __call__(self, sample):\n",
        "        return torch.from_numpy(sample).to(torch.float32)"
      ]
    },
    {
      "cell_type": "code",
      "execution_count": 38,
      "metadata": {
        "id": "7BpFQ_Y2PoeI"
      },
      "outputs": [],
      "source": [
        "transform = ToTensor()\n",
        "\n",
        "test_dataset = FashionMnist(\"data/FashionMNIST/raw\", train=False, image_transform=transform, label_transform=transform)\n",
        "train_dataset = FashionMnist(\"data/FashionMNIST/raw\", image_transform=transform, label_transform=transform)"
      ]
    },
    {
      "cell_type": "markdown",
      "metadata": {
        "id": "5Ltavx0QUMnm"
      },
      "source": [
        "Элементы набора данных могут быть объединены в пакеты (batch) явно и неявно. Если данные могут быть сконкатенированы или обЪединены каким-нибудь тривиальным способом, то можно не передавать никаких дополнительных парамертов в `torch.utils.data.Dataloader`."
      ]
    },
    {
      "cell_type": "code",
      "execution_count": 39,
      "metadata": {
        "id": "Cizxx6m0VAI7"
      },
      "outputs": [],
      "source": [
        "test_dataloader = DataLoader(test_dataset, batch_size=15, num_workers=2, shuffle=True)\n",
        "train_dataloader = DataLoader(train_dataset, batch_size=15, num_workers=2, shuffle=True)\n",
        "batch = next(iter(test_dataloader))"
      ]
    },
    {
      "cell_type": "code",
      "execution_count": 40,
      "metadata": {
        "colab": {
          "base_uri": "https://localhost:8080/"
        },
        "id": "SIZiPrBgVwGA",
        "outputId": "c3afddad-b83c-4f0a-f17a-db21d7e10c49"
      },
      "outputs": [
        {
          "output_type": "stream",
          "name": "stdout",
          "text": [
            "The length of the batch is 2\n",
            "The shape of the batch[0] is torch.Size([15, 784])\n"
          ]
        }
      ],
      "source": [
        "print(f\"The length of the batch is {len(batch)}\")\n",
        "print(f\"The shape of the batch[0] is {batch[0].shape}\")"
      ]
    },
    {
      "cell_type": "markdown",
      "metadata": {
        "id": "BCggRyOQWVIx"
      },
      "source": [
        "Однако, если наша структура данных не позволяет нам использовать объединение по умолчанию, то можно написать собственную функцию, которая будет пакетировать данные.\n",
        "\n",
        "Реализуйте функцию, преобразующую последовательность элементов массива в пакет (batch)."
      ]
    },
    {
      "cell_type": "code",
      "execution_count": 275,
      "metadata": {
        "id": "nQVh93fmWSjA"
      },
      "outputs": [],
      "source": [
        "def collating(dataset, batch_size=1):\n",
        "    chunks = [dataset[i:i + batch_size] for i in range(0, len(dataset), batch_size)]\n",
        "    print(chunks)\n",
        "    batches = [[torch.stack((list(zip(*chunk))[0])), torch.stack((list(zip(*chunk))[1]))] for chunk in chunks]\n",
        "    return batches"
      ]
    },
    {
      "cell_type": "markdown",
      "metadata": {
        "id": "Wij6F-vpe7KS"
      },
      "source": [
        "Убедитесть, что все работает корректно."
      ]
    },
    {
      "cell_type": "code",
      "execution_count": 43,
      "metadata": {
        "colab": {
          "base_uri": "https://localhost:8080/"
        },
        "id": "PFN00IyZXYaF",
        "outputId": "e85203d2-f2bd-40fb-b42c-0e7e2a5b4902"
      },
      "outputs": [
        {
          "output_type": "stream",
          "name": "stdout",
          "text": [
            "The length of the batch is 2\n",
            "The shape of the batch[0] is torch.Size([15, 784])\n"
          ]
        }
      ],
      "source": [
        "print(f\"The length of the batch is {len(batch)}\")\n",
        "print(f\"The shape of the batch[0] is {batch[0].shape}\")"
      ]
    },
    {
      "cell_type": "markdown",
      "metadata": {
        "id": "VHcumwuF86kL"
      },
      "source": [
        "## 2. Реализация модулей нейронной сети (3 балла)\n",
        "\n",
        "В этом разделе мы полностью реализуем модули для полносвязанной сети.\n",
        "\n",
        "Для начала нам понадобится реализовать прямой и обратный проход через слои.\n",
        "\n",
        "Наши слои будут соответствовать следующему интерфейсу (на примере \"тождественного\" слоя):"
      ]
    },
    {
      "cell_type": "markdown",
      "metadata": {
        "id": "zzhCW5HcfmKd"
      },
      "source": [
        "Сначала, мы реализуем функцию и её градиент."
      ]
    },
    {
      "cell_type": "code",
      "execution_count": 44,
      "metadata": {
        "id": "rcqeFXxsFGQO"
      },
      "outputs": [],
      "source": [
        "class IdentityFunction(Function):\n",
        "    \"\"\"\n",
        "    We can implement our own custom autograd Functions by subclassing\n",
        "    torch.autograd.Function and implementing the forward and backward passes\n",
        "    which operate on Tensors.\n",
        "    \"\"\"\n",
        "    @staticmethod\n",
        "    def forward(ctx, input):\n",
        "        \"\"\"\n",
        "        In the forward pass we receive a Tensor containing the input and return\n",
        "        a Tensor containing the output. ctx is a context object that can be used\n",
        "        to stash information for backward computation. You can cache arbitrary\n",
        "        objects for use in the backward pass using the ctx.save_for_backward method.\n",
        "        \"\"\"\n",
        "        return input\n",
        "\n",
        "    @staticmethod\n",
        "    def backward(ctx, grad_output):\n",
        "        \"\"\"\n",
        "        In the backward pass we receive a Tensor containing the gradient of the loss\n",
        "        with respect to the output, and we need to compute the gradient of the loss\n",
        "        with respect to the input.\n",
        "        \"\"\"\n",
        "        return grad_output"
      ]
    },
    {
      "cell_type": "markdown",
      "metadata": {
        "id": "jc6Rtczffxv4"
      },
      "source": [
        "Разработанную функцию обернем классом `IdentityLayer`, все слои в `PyTorch` должны быть наследниками базового класса `nn.Module()`\n"
      ]
    },
    {
      "cell_type": "code",
      "execution_count": 45,
      "metadata": {
        "id": "SiqeRVcM86kM"
      },
      "outputs": [],
      "source": [
        "class IdentityLayer(nn.Module):\n",
        "    def __init__(self):\n",
        "        # An identity layer does nothing\n",
        "        super().__init__()\n",
        "        self.identity = IdentityFunction.apply\n",
        "\n",
        "    def forward(self, inp):\n",
        "        # An identity layer just returns whatever it gets as input.\n",
        "        return self.identity(inp)"
      ]
    },
    {
      "cell_type": "markdown",
      "metadata": {
        "id": "N4IoM_pX86kQ"
      },
      "source": [
        "\n",
        "### 2.1 Функция активации ReLU\n",
        "Для начала реализуем функцию активации, слой нелинейности `ReLU(x) = max(x, 0)`. Параметров у слоя нет. Метод `forward` должен вернуть результат поэлементного применения `ReLU` к входному массиву, метод `backward` - градиент функции потерь по входу слоя. В нуле будем считать производную равной 0. Обратите внимание, что при обратном проходе могут понадобиться величины, посчитанные во время прямого прохода, поэтому их стоит сохранить в `ctx`."
      ]
    },
    {
      "cell_type": "code",
      "execution_count": 53,
      "metadata": {
        "id": "U9qrJ47xY6H0"
      },
      "outputs": [],
      "source": [
        "class ReLUFunction(Function):\n",
        "    @staticmethod\n",
        "    def forward(ctx, input):\n",
        "        relu = input.clamp(min=0)\n",
        "        ctx.save_for_backward(relu)\n",
        "        return relu\n",
        "\n",
        "    @staticmethod\n",
        "    def backward(ctx, grad_output):\n",
        "        relu, = ctx.saved_tensors\n",
        "        out = (relu > 0)\n",
        "        return grad_output * out"
      ]
    },
    {
      "cell_type": "code",
      "execution_count": 54,
      "metadata": {
        "id": "y09ZVCsT86kT"
      },
      "outputs": [],
      "source": [
        "class ReLU(nn.Module):\n",
        "    def __init__(self):\n",
        "\n",
        "        super().__init__()\n",
        "        self.relu = ReLUFunction.apply\n",
        "\n",
        "    def forward(self, input):\n",
        "\n",
        "        return self.relu(input)"
      ]
    },
    {
      "cell_type": "markdown",
      "metadata": {
        "id": "2RwKEUp_V3-L"
      },
      "source": [
        "Не забываем после реализации функции проверить градиент, испльзуя функцию `gradcheck`."
      ]
    },
    {
      "cell_type": "code",
      "execution_count": 55,
      "metadata": {
        "id": "K0RnDQZCXXZn"
      },
      "outputs": [],
      "source": [
        "torch.manual_seed(0)\n",
        "\n",
        "x = torch.rand((7,15), requires_grad = True, dtype=torch.double)\n",
        "relu = ReLU()\n",
        "\n",
        "assert gradcheck(relu, x)"
      ]
    },
    {
      "cell_type": "code",
      "execution_count": 56,
      "metadata": {
        "id": "vUmbmR4iXurd"
      },
      "outputs": [],
      "source": [
        "torch_relu = torch.relu\n",
        "our_relu = ReLU()\n",
        "\n",
        "assert torch.norm(torch_relu(x.float()) - our_relu(x)) < 1e-5"
      ]
    },
    {
      "cell_type": "markdown",
      "metadata": {
        "id": "ojTR4GFd86kY"
      },
      "source": [
        "### 2.2 Линейный слой (linear, fully-connected)\n",
        "Далее реализуем полносвязный слой без нелинейности. У слоя два набора параметра: матрица весов (weights) и вектор смещения (bias)."
      ]
    },
    {
      "cell_type": "code",
      "execution_count": 57,
      "metadata": {
        "id": "fBl34oykbcBf"
      },
      "outputs": [],
      "source": [
        "class LinearFunction(Function):\n",
        "    @staticmethod\n",
        "    def forward(ctx, inp, weight, bias):\n",
        "        ctx.save_for_backward(inp, weight, bias)\n",
        "        output = inp.double() @ weight.T.double()\n",
        "        if bias is not None:\n",
        "            output += bias.unsqueeze(0).expand_as(output)\n",
        "        return output\n",
        "\n",
        "    @staticmethod\n",
        "    def backward(ctx, grad_output):\n",
        "        inp, weight, bias = ctx.saved_tensors\n",
        "\n",
        "        grad_bias = grad_output.sum(0)\n",
        "        grad_weight = grad_output.T @ inp.double()\n",
        "        grad_input =  grad_output @ weight.double()\n",
        "\n",
        "        return grad_input, grad_weight, grad_bias"
      ]
    },
    {
      "cell_type": "code",
      "execution_count": 23,
      "metadata": {
        "id": "YbN5JOc886kZ"
      },
      "outputs": [],
      "source": [
        "class Linear(nn.Module):\n",
        "    def __init__(self, input_units, output_units, bias=True):\n",
        "        super().__init__()\n",
        "        self.weight = nn.Parameter(torch.randn(output_units, input_units))\n",
        "        if bias:\n",
        "            self.bias = nn.Parameter(torch.randn(output_units))\n",
        "        else:\n",
        "            self.bias = torch.zeros(output_units)\n",
        "\n",
        "        nn.init.uniform_(self.weight, -0.1, 0.1)\n",
        "        if self.bias is not None:\n",
        "            nn.init.uniform_(self.bias, -0.1, 0.1)\n",
        "        self.linear = LinearFunction.apply\n",
        "\n",
        "    def forward(self, inp):\n",
        "        return self.linear(inp, self.weight, self.bias)"
      ]
    },
    {
      "cell_type": "markdown",
      "metadata": {
        "id": "gToXI43WYMDv"
      },
      "source": [
        "Проверим градиент, а также сравним с работой нашего модуля с имплементированным в `PyTorch`."
      ]
    },
    {
      "cell_type": "markdown",
      "metadata": {
        "id": "et7mKX5xZfMI"
      },
      "source": [
        "Проверка градиента:"
      ]
    },
    {
      "cell_type": "code",
      "execution_count": 59,
      "metadata": {
        "id": "PxLVozqLZb_H"
      },
      "outputs": [],
      "source": [
        "torch.manual_seed(0)\n",
        "\n",
        "x = torch.rand((6,12), requires_grad=True, dtype=torch.double)\n",
        "linear = Linear(12, 14)\n",
        "\n",
        "assert gradcheck(linear, x)"
      ]
    },
    {
      "cell_type": "markdown",
      "metadata": {
        "id": "pW8ppOciZndN"
      },
      "source": [
        "Сравнение с `PyTorch`."
      ]
    },
    {
      "cell_type": "code",
      "execution_count": 199,
      "metadata": {
        "id": "IIR9svs7Zmq0"
      },
      "outputs": [],
      "source": [
        "output_units = 32\n",
        "input_units = 15\n",
        "\n",
        "x = torch.rand((16,15), requires_grad = True, dtype=torch.double)\n",
        "\n",
        "\n",
        "weight = torch.rand(size=(output_units, input_units), dtype=torch.double)\n",
        "bias = torch.rand(size=(output_units,), dtype=torch.double)\n",
        "\n",
        "torch_linear = torch.nn.Linear(input_units, output_units, dtype=torch.double)\n",
        "our_linear = Linear(input_units, output_units)\n",
        "\n",
        "state_dict = OrderedDict([(\"weight\", weight), (\"bias\", bias)])\n",
        "torch_linear.load_state_dict(state_dict)\n",
        "our_linear.load_state_dict(state_dict)\n",
        "\n",
        "\n",
        "\n",
        "torch_forward = torch_linear.forward(x)\n",
        "our_forward = our_linear(x)\n",
        "assert torch.allclose(torch_forward, our_forward)"
      ]
    },
    {
      "cell_type": "markdown",
      "source": [
        "### 3. Сборка и обучение нейронной сети (5 баллов)"
      ],
      "metadata": {
        "id": "xhOygfchKLlW"
      }
    },
    {
      "cell_type": "markdown",
      "metadata": {
        "id": "mPqlZfj_86lg"
      },
      "source": [
        "Реализуйте произвольную нейросеть, состоящую из ваших блоков. Она должна состоять из нескольких полносвязанных слоев."
      ]
    },
    {
      "cell_type": "code",
      "execution_count": 234,
      "metadata": {
        "id": "tkESXVD87sM8"
      },
      "outputs": [],
      "source": [
        "class Network(nn.Module):\n",
        "    def __init__(self, input_size=28*28, hidden_layers_size=32, num_layers=5,\n",
        "                 num_classes=10):\n",
        "        super().__init__()\n",
        "        self.num_layers = num_layers\n",
        "        self.lin1 = nn.Linear(input_size, hidden_layers_size)\n",
        "        self.lin2 = nn.Linear(hidden_layers_size, hidden_layers_size)\n",
        "        self.lin3 = nn.Linear(hidden_layers_size, num_classes)\n",
        "        self.relu = ReLU()\n",
        "        self.drop = nn.Dropout(0.2),\n",
        "        self.lsm = nn.LogSoftmax(dim=1)\n",
        "        self.last = nn.Sequential(\n",
        "            nn.Dropout(0.2),\n",
        "            Linear(hidden_layers_size, num_classes),\n",
        "            nn.LogSoftmax(dim=1)\n",
        "        )\n",
        "\n",
        "    def forward(self, inp):\n",
        "        inp = self.relu(self.lin1(inp))\n",
        "        for _ in range(self.num_layers - 5):\n",
        "            inp = self.relu(self.lin2(inp))\n",
        "        return self.last(inp)"
      ]
    },
    {
      "cell_type": "markdown",
      "metadata": {
        "id": "Vj-eEvMFfbSo"
      },
      "source": [
        "Ниже вам предстоит написать цикл обучения. Сначала это бывает больно, но потом уже на автомате делается, в начале так всегда\n"
      ]
    },
    {
      "cell_type": "code",
      "execution_count": 235,
      "metadata": {
        "id": "vDhcoCB4OpXE"
      },
      "outputs": [],
      "source": [
        "class EmptyContext:\n",
        "    def __enter__(self):\n",
        "        pass\n",
        "\n",
        "    def __exit__(self, *args):\n",
        "        pass"
      ]
    },
    {
      "cell_type": "code",
      "execution_count": 236,
      "metadata": {
        "id": "8AsWblqIOquI"
      },
      "outputs": [],
      "source": [
        "def accuracy(model_labels, labels):\n",
        "  return torch.mean((model_labels == labels).float()).cpu()"
      ]
    },
    {
      "cell_type": "code",
      "execution_count": 259,
      "metadata": {
        "id": "Oy33FHuv_Us-"
      },
      "outputs": [],
      "source": [
        "def perform_epoch(model, loader, criterion,\n",
        "                optimizer=None, device=None):\n",
        "    is_train = optimizer is not None\n",
        "    if is_train:\n",
        "        model.train()\n",
        "    else:\n",
        "        model.eval()\n",
        "    losses = []\n",
        "    accuracies = []\n",
        "    for imgs, labels in loader:\n",
        "        imgs, labels = imgs.to(device), labels.to(device).long()\n",
        "        if is_train:\n",
        "            y_pred = model(imgs)\n",
        "        else:\n",
        "            with torch.no_grad():\n",
        "                y_pred = model(imgs)\n",
        "        loss = criterion(y_pred, labels)\n",
        "        if is_train:\n",
        "            loss.backward()\n",
        "            optimizer.step()\n",
        "            optimizer.zero_grad()\n",
        "        losses.append(loss.item())\n",
        "        accuracies.append(accuracy(y_pred.argmax(axis=1), labels))\n",
        "\n",
        "    return np.mean(losses), np.mean(accuracies)"
      ]
    },
    {
      "cell_type": "markdown",
      "metadata": {
        "id": "FtamPEJZgOY5"
      },
      "source": [
        "Теперь обучим нашу нейронную сеть."
      ]
    },
    {
      "cell_type": "code",
      "source": [
        "train_dataloader = DataLoader(train_dataset, batch_size=15, num_workers=2, shuffle=True)\n",
        "val_dataloader = DataLoader(test_dataset, batch_size=15, num_workers=2, shuffle=False)\n",
        "metrics= dict()\n",
        "\n",
        "device = \"cuda\" if torch.cuda.is_available() else \"cpu\""
      ],
      "metadata": {
        "id": "gtZtIITvcNn4"
      },
      "execution_count": 260,
      "outputs": []
    },
    {
      "cell_type": "code",
      "execution_count": 309,
      "metadata": {
        "id": "mEcyUJJI_aAn"
      },
      "outputs": [],
      "source": [
        "def experiment(n_epochs, n_layers):\n",
        "    n_runs = 3\n",
        "\n",
        "    losses = []\n",
        "    val_losses = []\n",
        "    accuracies = []\n",
        "    val_accuracies = []\n",
        "    for run in trange(n_runs):\n",
        "        my_model = Network(num_layers=n_layers).to(device)\n",
        "        criterion = nn.NLLLoss()\n",
        "        optimizer = Adam(my_model.parameters(), lr=8e-4)\n",
        "        losses.append([])\n",
        "        val_losses.append([])\n",
        "        accuracies.append([])\n",
        "        val_accuracies.append([])\n",
        "        for epoch in range(n_epochs):\n",
        "            print(f'\\nEpoch #{epoch + 1}')\n",
        "            loss, acc = perform_epoch(my_model, train_dataloader, criterion, optimizer, device=device)\n",
        "            losses[run].append(loss)\n",
        "            accuracies[run].append(acc)\n",
        "            print(f\"Epoch #{epoch + 1}: loss {loss}, accuracy {acc}\")\n",
        "            val_loss, val_acc = perform_epoch(my_model, val_dataloader, criterion, device=device)\n",
        "            print(f\"Epoch #{epoch + 1}: val_loss {val_loss}, val_accuracy {val_acc}\\n\")\n",
        "            val_losses[run].append(val_loss)\n",
        "            val_accuracies[run].append(val_acc)\n",
        "    if (n_epochs, n_layers) not in metrics:\n",
        "        dict_metrics = dict()\n",
        "        dict_metrics['losses'] = list(map(mean, zip(*losses)))\n",
        "        dict_metrics['val_losses'] = list(map(mean, zip(*val_losses)))\n",
        "        dict_metrics['accuracies'] = list(map(mean, zip(*accuracies)))\n",
        "        dict_metrics['val_accuracies'] = list(map(mean, zip(*val_accuracies)))\n",
        "        metrics[(n_epochs, n_layers)] = dict_metrics"
      ]
    },
    {
      "cell_type": "markdown",
      "metadata": {
        "id": "WS41CQj0Y6Q8"
      },
      "source": [
        "Дальше:\n",
        "- Проведите эксперименты с числом слоев.\n",
        "- Постройте графики зависимости качества модели на тренировочной и тестовой выборках от числа слоев. Для получения статистически значимых результатов повторите эксперименты несколько раз.\n",
        "- Сделайте выводы."
      ]
    },
    {
      "cell_type": "code",
      "source": [
        "experiment(5, 5)"
      ],
      "metadata": {
        "colab": {
          "base_uri": "https://localhost:8080/"
        },
        "id": "_lqUC_Sjrxbj",
        "outputId": "39158b6e-b477-43af-86eb-521f8858b0a7"
      },
      "execution_count": 262,
      "outputs": [
        {
          "output_type": "stream",
          "name": "stderr",
          "text": [
            "\r  0%|          | 0/3 [00:00<?, ?it/s]"
          ]
        },
        {
          "output_type": "stream",
          "name": "stdout",
          "text": [
            "\n",
            "Epoch #1\n",
            "Epoch #1: loss 1.1881129208579841, accuracy 0.5762167572975159\n",
            "Epoch #1: val_loss 0.766948707855117, val_accuracy 0.7181909084320068\n",
            "\n",
            "\n",
            "Epoch #2\n",
            "Epoch #2: loss 0.9891272735043721, accuracy 0.6330666542053223\n",
            "Epoch #2: val_loss 0.7860428657386833, val_accuracy 0.7255871891975403\n",
            "\n",
            "\n",
            "Epoch #3\n",
            "Epoch #3: loss 0.9588665089641929, accuracy 0.6462000608444214\n",
            "Epoch #3: val_loss 0.7220300887658242, val_accuracy 0.7424287796020508\n",
            "\n",
            "\n",
            "Epoch #4\n",
            "Epoch #4: loss 0.9549872566336041, accuracy 0.6478667259216309\n",
            "Epoch #4: val_loss 0.7562913347257257, val_accuracy 0.7239880561828613\n",
            "\n",
            "\n",
            "Epoch #5\n",
            "Epoch #5: loss 0.9559724403823543, accuracy 0.6516667008399963\n"
          ]
        },
        {
          "output_type": "stream",
          "name": "stderr",
          "text": [
            "\r 33%|███▎      | 1/3 [01:24<02:48, 84.15s/it]"
          ]
        },
        {
          "output_type": "stream",
          "name": "stdout",
          "text": [
            "Epoch #5: val_loss 0.8166313797217124, val_accuracy 0.7132433652877808\n",
            "\n",
            "\n",
            "Epoch #1\n",
            "Epoch #1: loss 1.1176295426858756, accuracy 0.5710167288780212\n",
            "Epoch #1: val_loss 0.7628946073676182, val_accuracy 0.6808596253395081\n",
            "\n",
            "\n",
            "Epoch #2\n",
            "Epoch #2: loss 0.934022473131271, accuracy 0.6357833743095398\n",
            "Epoch #2: val_loss 0.7079493460569108, val_accuracy 0.743928074836731\n",
            "\n",
            "\n",
            "Epoch #3\n",
            "Epoch #3: loss 0.9058233711771538, accuracy 0.6499000191688538\n",
            "Epoch #3: val_loss 0.6403386902979457, val_accuracy 0.7827586531639099\n",
            "\n",
            "\n",
            "Epoch #4\n",
            "Epoch #4: loss 0.8917607652576287, accuracy 0.661050021648407\n",
            "Epoch #4: val_loss 0.6500517963739396, val_accuracy 0.7770615220069885\n",
            "\n",
            "\n",
            "Epoch #5\n",
            "Epoch #5: loss 0.878244832216516, accuracy 0.667483389377594\n"
          ]
        },
        {
          "output_type": "stream",
          "name": "stderr",
          "text": [
            "\r 67%|██████▋   | 2/3 [02:47<01:23, 83.83s/it]"
          ]
        },
        {
          "output_type": "stream",
          "name": "stdout",
          "text": [
            "Epoch #5: val_loss 0.6967673210465759, val_accuracy 0.6959021091461182\n",
            "\n",
            "\n",
            "Epoch #1\n",
            "Epoch #1: loss 1.2561324416226338, accuracy 0.5332334041595459\n",
            "Epoch #1: val_loss 0.8345383685509826, val_accuracy 0.7016492486000061\n",
            "\n",
            "\n",
            "Epoch #2\n",
            "Epoch #2: loss 1.0778890446227554, accuracy 0.5848499536514282\n",
            "Epoch #2: val_loss 0.7455637716607679, val_accuracy 0.7091454863548279\n",
            "\n",
            "\n",
            "Epoch #3\n",
            "Epoch #3: loss 1.03529344462389, accuracy 0.6026500463485718\n",
            "Epoch #3: val_loss 0.7893216582397737, val_accuracy 0.690504789352417\n",
            "\n",
            "\n",
            "Epoch #4\n",
            "Epoch #4: loss 1.0244907903078244, accuracy 0.6081334352493286\n",
            "Epoch #4: val_loss 0.7824052529740849, val_accuracy 0.6957021355628967\n",
            "\n",
            "\n",
            "Epoch #5\n",
            "Epoch #5: loss 1.0046729333279143, accuracy 0.6119666695594788\n"
          ]
        },
        {
          "output_type": "stream",
          "name": "stderr",
          "text": [
            "100%|██████████| 3/3 [04:11<00:00, 83.76s/it]"
          ]
        },
        {
          "output_type": "stream",
          "name": "stdout",
          "text": [
            "Epoch #5: val_loss 0.7660101345720117, val_accuracy 0.701199471950531\n",
            "\n"
          ]
        },
        {
          "output_type": "stream",
          "name": "stderr",
          "text": [
            "\n"
          ]
        }
      ]
    },
    {
      "cell_type": "code",
      "source": [
        "experiment(5, 7)"
      ],
      "metadata": {
        "colab": {
          "base_uri": "https://localhost:8080/"
        },
        "id": "OzaJ7JuC9kas",
        "outputId": "5815f179-7c75-4fa5-9d8e-2bf2fb84d3ec"
      },
      "execution_count": 311,
      "outputs": [
        {
          "output_type": "stream",
          "name": "stderr",
          "text": [
            "\r  0%|          | 0/3 [00:00<?, ?it/s]"
          ]
        },
        {
          "output_type": "stream",
          "name": "stdout",
          "text": [
            "\n",
            "Epoch #1\n",
            "Epoch #1: loss 0.6287657879892454, accuracy 0.772550106048584\n",
            "Epoch #1: val_loss 0.48632471415380096, val_accuracy 0.816541850566864\n",
            "\n",
            "\n",
            "Epoch #2\n",
            "Epoch #2: loss 0.49197636389363164, accuracy 0.8260000944137573\n",
            "Epoch #2: val_loss 0.46741955317353595, val_accuracy 0.8366317749023438\n",
            "\n",
            "\n",
            "Epoch #3\n",
            "Epoch #3: loss 0.4623191783203724, accuracy 0.8350000977516174\n",
            "Epoch #3: val_loss 0.5226703304330071, val_accuracy 0.8126437664031982\n",
            "\n",
            "\n",
            "Epoch #4\n",
            "Epoch #4: loss 0.4400784046617063, accuracy 0.8446834087371826\n",
            "Epoch #4: val_loss 0.45467289811852785, val_accuracy 0.843128502368927\n",
            "\n",
            "\n",
            "Epoch #5\n",
            "Epoch #5: loss 0.42770630185331376, accuracy 0.8469833731651306\n"
          ]
        },
        {
          "output_type": "stream",
          "name": "stderr",
          "text": [
            "\r 33%|███▎      | 1/3 [01:39<03:18, 99.06s/it]"
          ]
        },
        {
          "output_type": "stream",
          "name": "stdout",
          "text": [
            "Epoch #5: val_loss 0.4542956033426473, val_accuracy 0.8386806845664978\n",
            "\n",
            "\n",
            "Epoch #1\n",
            "Epoch #1: loss 0.6315933437683536, accuracy 0.7731000781059265\n",
            "Epoch #1: val_loss 0.5521244794306813, val_accuracy 0.8018990755081177\n",
            "\n",
            "\n",
            "Epoch #2\n",
            "Epoch #2: loss 0.4986669985197474, accuracy 0.8256334066390991\n",
            "Epoch #2: val_loss 0.4812895189861284, val_accuracy 0.8279361128807068\n",
            "\n",
            "\n",
            "Epoch #3\n",
            "Epoch #3: loss 0.46076479465046294, accuracy 0.8390334248542786\n",
            "Epoch #3: val_loss 0.4747980175523634, val_accuracy 0.8325837850570679\n",
            "\n",
            "\n",
            "Epoch #4\n",
            "Epoch #4: loss 0.4485801177201854, accuracy 0.8440667986869812\n",
            "Epoch #4: val_loss 0.4933387456385264, val_accuracy 0.8283858895301819\n",
            "\n",
            "\n",
            "Epoch #5\n",
            "Epoch #5: loss 0.4292216897123158, accuracy 0.8495667576789856\n"
          ]
        },
        {
          "output_type": "stream",
          "name": "stderr",
          "text": [
            "\r 67%|██████▋   | 2/3 [03:32<01:47, 107.36s/it]"
          ]
        },
        {
          "output_type": "stream",
          "name": "stdout",
          "text": [
            "Epoch #5: val_loss 0.45494489541136485, val_accuracy 0.836881697177887\n",
            "\n",
            "\n",
            "Epoch #1\n",
            "Epoch #1: loss 0.6383091710342964, accuracy 0.7720667719841003\n",
            "Epoch #1: val_loss 0.5932638306906225, val_accuracy 0.788305938243866\n",
            "\n",
            "\n",
            "Epoch #2\n",
            "Epoch #2: loss 0.4943590866971427, accuracy 0.8258167505264282\n",
            "Epoch #2: val_loss 0.45805807490003636, val_accuracy 0.8381310105323792\n",
            "\n",
            "\n",
            "Epoch #3\n",
            "Epoch #3: loss 0.4576472088355764, accuracy 0.83881676197052\n",
            "Epoch #3: val_loss 0.4450912683137833, val_accuracy 0.8460270762443542\n",
            "\n",
            "\n",
            "Epoch #4\n",
            "Epoch #4: loss 0.43970653043678004, accuracy 0.8445168137550354\n",
            "Epoch #4: val_loss 0.4671522159870812, val_accuracy 0.8445277810096741\n",
            "\n",
            "\n",
            "Epoch #5\n",
            "Epoch #5: loss 0.42538401638207596, accuracy 0.849350094795227\n"
          ]
        },
        {
          "output_type": "stream",
          "name": "stderr",
          "text": [
            "100%|██████████| 3/3 [05:16<00:00, 105.49s/it]"
          ]
        },
        {
          "output_type": "stream",
          "name": "stdout",
          "text": [
            "Epoch #5: val_loss 0.4270588795057386, val_accuracy 0.8507747054100037\n",
            "\n"
          ]
        },
        {
          "output_type": "stream",
          "name": "stderr",
          "text": [
            "\n"
          ]
        }
      ]
    },
    {
      "cell_type": "code",
      "source": [
        "experiment(5, 9)"
      ],
      "metadata": {
        "colab": {
          "base_uri": "https://localhost:8080/"
        },
        "id": "MPTU7fORKCIK",
        "outputId": "bd556314-9894-48d0-9fd4-bec257b4a8b3"
      },
      "execution_count": 343,
      "outputs": [
        {
          "output_type": "stream",
          "name": "stderr",
          "text": [
            "\r  0%|          | 0/3 [00:00<?, ?it/s]"
          ]
        },
        {
          "output_type": "stream",
          "name": "stdout",
          "text": [
            "\n",
            "Epoch #1\n",
            "Epoch #1: loss 0.6386802854363266, accuracy 0.7671000957489014\n",
            "Epoch #1: val_loss 0.48391029114376827, val_accuracy 0.8242379426956177\n",
            "\n",
            "\n",
            "Epoch #2\n",
            "Epoch #2: loss 0.48704454193918567, accuracy 0.829916775226593\n",
            "Epoch #2: val_loss 0.44014480744245865, val_accuracy 0.8391805291175842\n",
            "\n",
            "\n",
            "Epoch #3\n",
            "Epoch #3: loss 0.4546247959915439, accuracy 0.84086674451828\n",
            "Epoch #3: val_loss 0.4605419469934876, val_accuracy 0.8350325226783752\n",
            "\n",
            "\n",
            "Epoch #4\n",
            "Epoch #4: loss 0.43346975854678726, accuracy 0.847633421421051\n",
            "Epoch #4: val_loss 0.4583678214518571, val_accuracy 0.8354823589324951\n",
            "\n",
            "\n",
            "Epoch #5\n",
            "Epoch #5: loss 0.4177898063607114, accuracy 0.8533501029014587\n"
          ]
        },
        {
          "output_type": "stream",
          "name": "stderr",
          "text": [
            "\r 33%|███▎      | 1/3 [01:52<03:45, 112.88s/it]"
          ]
        },
        {
          "output_type": "stream",
          "name": "stdout",
          "text": [
            "Epoch #5: val_loss 0.4208830411444427, val_accuracy 0.8488755822181702\n",
            "\n",
            "\n",
            "Epoch #1\n",
            "Epoch #1: loss 0.618203940324064, accuracy 0.7823334336280823\n",
            "Epoch #1: val_loss 0.49246414075462974, val_accuracy 0.8231385350227356\n",
            "\n",
            "\n",
            "Epoch #2\n",
            "Epoch #2: loss 0.4699992103900379, accuracy 0.8345667719841003\n",
            "Epoch #2: val_loss 0.4556505768111898, val_accuracy 0.837981104850769\n",
            "\n",
            "\n",
            "Epoch #3\n",
            "Epoch #3: loss 0.44082493339676915, accuracy 0.8464834094047546\n",
            "Epoch #3: val_loss 0.46679791164285805, val_accuracy 0.8343827724456787\n",
            "\n",
            "\n",
            "Epoch #4\n",
            "Epoch #4: loss 0.41956700616821174, accuracy 0.8520167469978333\n",
            "Epoch #4: val_loss 0.4734298696613343, val_accuracy 0.8308846950531006\n",
            "\n",
            "\n",
            "Epoch #5\n",
            "Epoch #5: loss 0.40568190705089935, accuracy 0.8563834428787231\n"
          ]
        },
        {
          "output_type": "stream",
          "name": "stderr",
          "text": [
            "\r 67%|██████▋   | 2/3 [03:44<01:52, 112.18s/it]"
          ]
        },
        {
          "output_type": "stream",
          "name": "stdout",
          "text": [
            "Epoch #5: val_loss 0.48868181981384884, val_accuracy 0.8326836824417114\n",
            "\n",
            "\n",
            "Epoch #1\n",
            "Epoch #1: loss 0.6344978313568069, accuracy 0.7753668427467346\n",
            "Epoch #1: val_loss 0.5008559062368096, val_accuracy 0.825537383556366\n",
            "\n",
            "\n",
            "Epoch #2\n",
            "Epoch #2: loss 0.4820428187425632, accuracy 0.8324167728424072\n",
            "Epoch #2: val_loss 0.4587871650652369, val_accuracy 0.8376312851905823\n",
            "\n",
            "\n",
            "Epoch #3\n",
            "Epoch #3: loss 0.44493236448685514, accuracy 0.843616783618927\n",
            "Epoch #3: val_loss 0.45327230936470064, val_accuracy 0.8390305042266846\n",
            "\n",
            "\n",
            "Epoch #4\n",
            "Epoch #4: loss 0.4238092569475657, accuracy 0.8498167991638184\n",
            "Epoch #4: val_loss 0.46752609959347813, val_accuracy 0.8273863792419434\n",
            "\n",
            "\n",
            "Epoch #5\n",
            "Epoch #5: loss 0.41259115338545566, accuracy 0.8537501096725464\n"
          ]
        },
        {
          "output_type": "stream",
          "name": "stderr",
          "text": [
            "100%|██████████| 3/3 [05:33<00:00, 111.05s/it]"
          ]
        },
        {
          "output_type": "stream",
          "name": "stdout",
          "text": [
            "Epoch #5: val_loss 0.4343692029099882, val_accuracy 0.8520740270614624\n",
            "\n"
          ]
        },
        {
          "output_type": "stream",
          "name": "stderr",
          "text": [
            "\n"
          ]
        }
      ]
    },
    {
      "cell_type": "code",
      "source": [
        "experiment(7, 5)"
      ],
      "metadata": {
        "colab": {
          "base_uri": "https://localhost:8080/"
        },
        "id": "DOlBmZ9eG3mi",
        "outputId": "bd8c38dd-2778-4b9e-cb43-446ff3c6f477"
      },
      "execution_count": 334,
      "outputs": [
        {
          "output_type": "stream",
          "name": "stderr",
          "text": [
            "\r  0%|          | 0/3 [00:00<?, ?it/s]"
          ]
        },
        {
          "output_type": "stream",
          "name": "stdout",
          "text": [
            "\n",
            "Epoch #1\n",
            "Epoch #1: loss 1.2234360919428413, accuracy 0.5675333142280579\n",
            "Epoch #1: val_loss 0.8412473377515266, val_accuracy 0.708995521068573\n",
            "\n",
            "\n",
            "Epoch #2\n",
            "Epoch #2: loss 1.1089995635457972, accuracy 0.606166660785675\n",
            "Epoch #2: val_loss 0.8338097503259775, val_accuracy 0.7276362180709839\n",
            "\n",
            "\n",
            "Epoch #3\n",
            "Epoch #3: loss 1.053308747051291, accuracy 0.6242666840553284\n",
            "Epoch #3: val_loss 0.8259975925946724, val_accuracy 0.7549725770950317\n",
            "\n",
            "\n",
            "Epoch #4\n",
            "Epoch #4: loss 1.036692559176972, accuracy 0.6358667016029358\n",
            "Epoch #4: val_loss 0.7755283244671363, val_accuracy 0.7553223967552185\n",
            "\n",
            "\n",
            "Epoch #5\n",
            "Epoch #5: loss 1.0258288871476249, accuracy 0.6422000527381897\n",
            "Epoch #5: val_loss 0.7867605784703038, val_accuracy 0.7457771301269531\n",
            "\n",
            "\n",
            "Epoch #6\n",
            "Epoch #6: loss 1.0280203440222548, accuracy 0.6408000588417053\n",
            "Epoch #6: val_loss 0.7899779983263452, val_accuracy 0.7285857200622559\n",
            "\n",
            "\n",
            "Epoch #7\n",
            "Epoch #7: loss 1.0266346664366566, accuracy 0.6419167518615723\n"
          ]
        },
        {
          "output_type": "stream",
          "name": "stderr",
          "text": [
            "\r 33%|███▎      | 1/3 [02:02<04:04, 122.43s/it]"
          ]
        },
        {
          "output_type": "stream",
          "name": "stdout",
          "text": [
            "Epoch #7: val_loss 0.9454142129124469, val_accuracy 0.6519740223884583\n",
            "\n",
            "\n",
            "Epoch #1\n",
            "Epoch #1: loss 1.2879086386208962, accuracy 0.5314333438873291\n",
            "Epoch #1: val_loss 0.8108747539293097, val_accuracy 0.7002999186515808\n",
            "\n",
            "\n",
            "Epoch #2\n",
            "Epoch #2: loss 0.9908225560747662, accuracy 0.625866711139679\n",
            "Epoch #2: val_loss 0.7775829226705651, val_accuracy 0.7029485106468201\n",
            "\n",
            "\n",
            "Epoch #3\n",
            "Epoch #3: loss 0.938691394195093, accuracy 0.6450333595275879\n",
            "Epoch #3: val_loss 0.6932005728037268, val_accuracy 0.7416292428970337\n",
            "\n",
            "\n",
            "Epoch #4\n",
            "Epoch #4: loss 0.9290744875484088, accuracy 0.6482500433921814\n",
            "Epoch #4: val_loss 0.739099982879951, val_accuracy 0.7095952033996582\n",
            "\n",
            "\n",
            "Epoch #5\n",
            "Epoch #5: loss 0.9128857514651321, accuracy 0.6547001004219055\n",
            "Epoch #5: val_loss 0.7925057633555048, val_accuracy 0.6972014307975769\n",
            "\n",
            "\n",
            "Epoch #6\n",
            "Epoch #6: loss 0.9071208335549936, accuracy 0.6557334065437317\n",
            "Epoch #6: val_loss 0.7157301219428587, val_accuracy 0.7273363471031189\n",
            "\n",
            "\n",
            "Epoch #7\n",
            "Epoch #7: loss 0.8990446463614133, accuracy 0.6568333506584167\n"
          ]
        },
        {
          "output_type": "stream",
          "name": "stderr",
          "text": [
            "\r 67%|██████▋   | 2/3 [04:02<02:01, 121.05s/it]"
          ]
        },
        {
          "output_type": "stream",
          "name": "stdout",
          "text": [
            "Epoch #7: val_loss 0.6820439584236339, val_accuracy 0.7344828248023987\n",
            "\n",
            "\n",
            "Epoch #1\n",
            "Epoch #1: loss 1.1778901043776568, accuracy 0.5749333500862122\n",
            "Epoch #1: val_loss 0.7939348888693165, val_accuracy 0.7202898859977722\n",
            "\n",
            "\n",
            "Epoch #2\n",
            "Epoch #2: loss 0.9837113051929429, accuracy 0.6232833862304688\n",
            "Epoch #2: val_loss 0.7422854013714648, val_accuracy 0.7180909514427185\n",
            "\n",
            "\n",
            "Epoch #3\n",
            "Epoch #3: loss 0.9601280985911244, accuracy 0.6314000487327576\n",
            "Epoch #3: val_loss 0.738203615053307, val_accuracy 0.7139430642127991\n",
            "\n",
            "\n",
            "Epoch #4\n",
            "Epoch #4: loss 0.9552998934013237, accuracy 0.635366678237915\n",
            "Epoch #4: val_loss 0.7456036080560732, val_accuracy 0.7154922485351562\n",
            "\n",
            "\n",
            "Epoch #5\n",
            "Epoch #5: loss 0.9358180947343194, accuracy 0.6413334012031555\n",
            "Epoch #5: val_loss 0.7195793597851727, val_accuracy 0.7314843535423279\n",
            "\n",
            "\n",
            "Epoch #6\n",
            "Epoch #6: loss 0.9269029883110282, accuracy 0.644800066947937\n",
            "Epoch #6: val_loss 0.783522719063212, val_accuracy 0.6842079162597656\n",
            "\n",
            "\n",
            "Epoch #7\n",
            "Epoch #7: loss 0.9229446352185021, accuracy 0.6470834016799927\n"
          ]
        },
        {
          "output_type": "stream",
          "name": "stderr",
          "text": [
            "100%|██████████| 3/3 [06:02<00:00, 120.68s/it]"
          ]
        },
        {
          "output_type": "stream",
          "name": "stdout",
          "text": [
            "Epoch #7: val_loss 0.7843887701485207, val_accuracy 0.6725137829780579\n",
            "\n"
          ]
        },
        {
          "output_type": "stream",
          "name": "stderr",
          "text": [
            "\n"
          ]
        }
      ]
    },
    {
      "cell_type": "code",
      "source": [
        "experiment(7, 7)"
      ],
      "metadata": {
        "colab": {
          "base_uri": "https://localhost:8080/"
        },
        "id": "vT-gqjiTJGjM",
        "outputId": "5129217b-94ed-4202-d335-3b15ab124081"
      },
      "execution_count": 336,
      "outputs": [
        {
          "output_type": "stream",
          "name": "stderr",
          "text": [
            "\r  0%|          | 0/3 [00:00<?, ?it/s]"
          ]
        },
        {
          "output_type": "stream",
          "name": "stdout",
          "text": [
            "\n",
            "Epoch #1\n",
            "Epoch #1: loss 0.656209710080954, accuracy 0.7656834721565247\n",
            "Epoch #1: val_loss 0.5052434093490771, val_accuracy 0.8222389221191406\n",
            "\n",
            "\n",
            "Epoch #2\n",
            "Epoch #2: loss 0.5036262723314839, accuracy 0.8237501382827759\n",
            "Epoch #2: val_loss 0.48648455832127785, val_accuracy 0.8263869285583496\n",
            "\n",
            "\n",
            "Epoch #3\n",
            "Epoch #3: loss 0.4690763468283649, accuracy 0.8387501239776611\n",
            "Epoch #3: val_loss 0.4500035509109977, val_accuracy 0.842179000377655\n",
            "\n",
            "\n",
            "Epoch #4\n",
            "Epoch #4: loss 0.4553904141078074, accuracy 0.8426167964935303\n",
            "Epoch #4: val_loss 0.5189404269545618, val_accuracy 0.8232384324073792\n",
            "\n",
            "\n",
            "Epoch #5\n",
            "Epoch #5: loss 0.44034529514994547, accuracy 0.8463000655174255\n",
            "Epoch #5: val_loss 0.48445720898868855, val_accuracy 0.8262869715690613\n",
            "\n",
            "\n",
            "Epoch #6\n",
            "Epoch #6: loss 0.4278687828300012, accuracy 0.8499500751495361\n",
            "Epoch #6: val_loss 0.4366914942220572, val_accuracy 0.845777153968811\n",
            "\n",
            "\n",
            "Epoch #7\n",
            "Epoch #7: loss 0.42508321345760686, accuracy 0.8522500395774841\n"
          ]
        },
        {
          "output_type": "stream",
          "name": "stderr",
          "text": [
            "\r 33%|███▎      | 1/3 [02:21<04:42, 141.23s/it]"
          ]
        },
        {
          "output_type": "stream",
          "name": "stdout",
          "text": [
            "Epoch #7: val_loss 0.46464180962398316, val_accuracy 0.8386808037757874\n",
            "\n",
            "\n",
            "Epoch #1\n",
            "Epoch #1: loss 0.6190376908815048, accuracy 0.7767167687416077\n",
            "Epoch #1: val_loss 0.5835338400614284, val_accuracy 0.7970516085624695\n",
            "\n",
            "\n",
            "Epoch #2\n",
            "Epoch #2: loss 0.48450676940644566, accuracy 0.8302000761032104\n",
            "Epoch #2: val_loss 0.4554818912084984, val_accuracy 0.8420791029930115\n",
            "\n",
            "\n",
            "Epoch #3\n",
            "Epoch #3: loss 0.45554283859035993, accuracy 0.8390001058578491\n",
            "Epoch #3: val_loss 0.5035198097096971, val_accuracy 0.8360821008682251\n",
            "\n",
            "\n",
            "Epoch #4\n",
            "Epoch #4: loss 0.4348217972166079, accuracy 0.8464834094047546\n",
            "Epoch #4: val_loss 0.4639810926609486, val_accuracy 0.8329835534095764\n",
            "\n",
            "\n",
            "Epoch #5\n",
            "Epoch #5: loss 0.42615580553156734, accuracy 0.8511000871658325\n",
            "Epoch #5: val_loss 0.4495492342801016, val_accuracy 0.8480761051177979\n",
            "\n",
            "\n",
            "Epoch #6\n",
            "Epoch #6: loss 0.4166644804571624, accuracy 0.8536667227745056\n",
            "Epoch #6: val_loss 0.463944694638825, val_accuracy 0.8475762605667114\n",
            "\n",
            "\n",
            "Epoch #7\n",
            "Epoch #7: loss 0.40738903589311404, accuracy 0.8565334677696228\n"
          ]
        },
        {
          "output_type": "stream",
          "name": "stderr",
          "text": [
            "\r 67%|██████▋   | 2/3 [04:44<02:22, 142.49s/it]"
          ]
        },
        {
          "output_type": "stream",
          "name": "stdout",
          "text": [
            "Epoch #7: val_loss 0.4393169808689832, val_accuracy 0.8482259511947632\n",
            "\n",
            "\n",
            "Epoch #1\n",
            "Epoch #1: loss 0.6428955725373554, accuracy 0.7731501460075378\n",
            "Epoch #1: val_loss 0.5731736031242962, val_accuracy 0.7785108089447021\n",
            "\n",
            "\n",
            "Epoch #2\n",
            "Epoch #2: loss 0.4931316601409278, accuracy 0.8256167769432068\n",
            "Epoch #2: val_loss 0.4576626769347754, val_accuracy 0.8365817070007324\n",
            "\n",
            "\n",
            "Epoch #3\n",
            "Epoch #3: loss 0.45279672511919267, accuracy 0.8396334052085876\n",
            "Epoch #3: val_loss 0.4331608945335987, val_accuracy 0.8405798077583313\n",
            "\n",
            "\n",
            "Epoch #4\n",
            "Epoch #4: loss 0.4333805005282138, accuracy 0.8480334281921387\n",
            "Epoch #4: val_loss 0.44019683484426225, val_accuracy 0.8432783484458923\n",
            "\n",
            "\n",
            "Epoch #5\n",
            "Epoch #5: loss 0.4188277082058438, accuracy 0.8522667288780212\n",
            "Epoch #5: val_loss 0.44377475081179085, val_accuracy 0.8413294553756714\n",
            "\n",
            "\n",
            "Epoch #6\n",
            "Epoch #6: loss 0.4067398629284488, accuracy 0.8579167723655701\n",
            "Epoch #6: val_loss 0.45572587065594733, val_accuracy 0.8403797745704651\n",
            "\n",
            "\n",
            "Epoch #7\n",
            "Epoch #7: loss 0.39914379743258926, accuracy 0.8597834706306458\n"
          ]
        },
        {
          "output_type": "stream",
          "name": "stderr",
          "text": [
            "100%|██████████| 3/3 [07:04<00:00, 141.37s/it]"
          ]
        },
        {
          "output_type": "stream",
          "name": "stdout",
          "text": [
            "Epoch #7: val_loss 0.4176250728523021, val_accuracy 0.8573713898658752\n",
            "\n"
          ]
        },
        {
          "output_type": "stream",
          "name": "stderr",
          "text": [
            "\n"
          ]
        }
      ]
    },
    {
      "cell_type": "code",
      "source": [
        "experiment(7, 9)"
      ],
      "metadata": {
        "colab": {
          "base_uri": "https://localhost:8080/"
        },
        "id": "IlULfckkKG6D",
        "outputId": "66b69969-2b7e-4cf6-cca4-ff03c9404d0c"
      },
      "execution_count": 349,
      "outputs": [
        {
          "output_type": "stream",
          "name": "stderr",
          "text": [
            "\r  0%|          | 0/3 [00:00<?, ?it/s]"
          ]
        },
        {
          "output_type": "stream",
          "name": "stdout",
          "text": [
            "\n",
            "Epoch #1\n",
            "Epoch #1: loss 0.6486962864906273, accuracy 0.7685667872428894\n",
            "Epoch #1: val_loss 0.5001932446641582, val_accuracy 0.824337899684906\n",
            "\n",
            "\n",
            "Epoch #2\n",
            "Epoch #2: loss 0.4891901840765926, accuracy 0.8296000957489014\n",
            "Epoch #2: val_loss 0.46015780050686844, val_accuracy 0.8385807871818542\n",
            "\n",
            "\n",
            "Epoch #3\n",
            "Epoch #3: loss 0.4493754436689859, accuracy 0.8430334329605103\n",
            "Epoch #3: val_loss 0.4390565185065474, val_accuracy 0.8438780903816223\n",
            "\n",
            "\n",
            "Epoch #4\n",
            "Epoch #4: loss 0.42702177045990036, accuracy 0.8497334122657776\n",
            "Epoch #4: val_loss 0.42065561945079205, val_accuracy 0.8515743017196655\n",
            "\n",
            "\n",
            "Epoch #5\n",
            "Epoch #5: loss 0.4132147483080231, accuracy 0.8537834286689758\n",
            "Epoch #5: val_loss 0.4502603171361859, val_accuracy 0.8413794040679932\n",
            "\n",
            "\n",
            "Epoch #6\n",
            "Epoch #6: loss 0.4053429187983451, accuracy 0.8566167950630188\n",
            "Epoch #6: val_loss 0.4563499891615129, val_accuracy 0.8434284329414368\n",
            "\n",
            "\n",
            "Epoch #7\n",
            "Epoch #7: loss 0.3956368225978041, accuracy 0.8582168221473694\n"
          ]
        },
        {
          "output_type": "stream",
          "name": "stderr",
          "text": [
            "\r 33%|███▎      | 1/3 [02:34<05:09, 154.55s/it]"
          ]
        },
        {
          "output_type": "stream",
          "name": "stdout",
          "text": [
            "Epoch #7: val_loss 0.47145579495923257, val_accuracy 0.8477261662483215\n",
            "\n",
            "\n",
            "Epoch #1\n",
            "Epoch #1: loss 0.646783659187297, accuracy 0.7634500861167908\n",
            "Epoch #1: val_loss 0.5005910940722736, val_accuracy 0.8176411986351013\n",
            "\n",
            "\n",
            "Epoch #2\n",
            "Epoch #2: loss 0.49046421147965635, accuracy 0.827783465385437\n",
            "Epoch #2: val_loss 0.45702317001772735, val_accuracy 0.837281346321106\n",
            "\n",
            "\n",
            "Epoch #3\n",
            "Epoch #3: loss 0.45095798191317893, accuracy 0.8416167497634888\n",
            "Epoch #3: val_loss 0.46095532550006313, val_accuracy 0.8430784940719604\n",
            "\n",
            "\n",
            "Epoch #4\n",
            "Epoch #4: loss 0.43108006675231264, accuracy 0.8489000797271729\n",
            "Epoch #4: val_loss 0.4295995296108077, val_accuracy 0.846676766872406\n",
            "\n",
            "\n",
            "Epoch #5\n",
            "Epoch #5: loss 0.4136381640902426, accuracy 0.8559833765029907\n",
            "Epoch #5: val_loss 0.448034932347034, val_accuracy 0.8452774286270142\n",
            "\n",
            "\n",
            "Epoch #6\n",
            "Epoch #6: loss 0.4003361822847363, accuracy 0.8589167594909668\n",
            "Epoch #6: val_loss 0.47374739030046525, val_accuracy 0.8463767766952515\n",
            "\n",
            "\n",
            "Epoch #7\n",
            "Epoch #7: loss 0.391558052847392, accuracy 0.8637834191322327\n"
          ]
        },
        {
          "output_type": "stream",
          "name": "stderr",
          "text": [
            "\r 67%|██████▋   | 2/3 [05:05<02:32, 152.28s/it]"
          ]
        },
        {
          "output_type": "stream",
          "name": "stdout",
          "text": [
            "Epoch #7: val_loss 0.4149350270091149, val_accuracy 0.8528736233711243\n",
            "\n",
            "\n",
            "Epoch #1\n",
            "Epoch #1: loss 0.6378511842004434, accuracy 0.7701167464256287\n",
            "Epoch #1: val_loss 0.48849746356858437, val_accuracy 0.8229885101318359\n",
            "\n",
            "\n",
            "Epoch #2\n",
            "Epoch #2: loss 0.48579727500080494, accuracy 0.832050085067749\n",
            "Epoch #2: val_loss 0.4504577788998797, val_accuracy 0.8411795496940613\n",
            "\n",
            "\n",
            "Epoch #3\n",
            "Epoch #3: loss 0.4474928833915033, accuracy 0.8434500694274902\n",
            "Epoch #3: val_loss 0.43090962162881863, val_accuracy 0.8432784676551819\n",
            "\n",
            "\n",
            "Epoch #4\n",
            "Epoch #4: loss 0.42402518321240884, accuracy 0.8507501482963562\n",
            "Epoch #4: val_loss 0.4384465515686832, val_accuracy 0.8385807871818542\n",
            "\n",
            "\n",
            "Epoch #5\n",
            "Epoch #5: loss 0.4097670167164565, accuracy 0.8567500710487366\n",
            "Epoch #5: val_loss 0.41081222608532403, val_accuracy 0.8561719655990601\n",
            "\n",
            "\n",
            "Epoch #6\n",
            "Epoch #6: loss 0.39886532670080077, accuracy 0.8599667549133301\n",
            "Epoch #6: val_loss 0.45159709401427545, val_accuracy 0.8458771705627441\n",
            "\n",
            "\n",
            "Epoch #7\n",
            "Epoch #7: loss 0.3902802715853137, accuracy 0.8634667992591858\n"
          ]
        },
        {
          "output_type": "stream",
          "name": "stderr",
          "text": [
            "100%|██████████| 3/3 [07:36<00:00, 152.18s/it]"
          ]
        },
        {
          "output_type": "stream",
          "name": "stdout",
          "text": [
            "Epoch #7: val_loss 0.4313156571988621, val_accuracy 0.8559221625328064\n",
            "\n"
          ]
        },
        {
          "output_type": "stream",
          "name": "stderr",
          "text": [
            "\n"
          ]
        }
      ]
    },
    {
      "cell_type": "code",
      "source": [
        "experiment(9, 5)"
      ],
      "metadata": {
        "colab": {
          "base_uri": "https://localhost:8080/"
        },
        "id": "6XF_X6QQSxSt",
        "outputId": "69662ca6-a726-4558-989b-b7583f7ac849"
      },
      "execution_count": 362,
      "outputs": [
        {
          "output_type": "stream",
          "name": "stderr",
          "text": [
            "\r  0%|          | 0/3 [00:00<?, ?it/s]"
          ]
        },
        {
          "output_type": "stream",
          "name": "stdout",
          "text": [
            "\n",
            "Epoch #1\n",
            "Epoch #1: loss 1.200711963833931, accuracy 0.5660500526428223\n",
            "Epoch #1: val_loss 0.7671889173440932, val_accuracy 0.7157421708106995\n",
            "\n",
            "\n",
            "Epoch #2\n",
            "Epoch #2: loss 0.9950013589033752, accuracy 0.6155000329017639\n",
            "Epoch #2: val_loss 0.8021959910855017, val_accuracy 0.6930534839630127\n",
            "\n",
            "\n",
            "Epoch #3\n",
            "Epoch #3: loss 0.9499894362679032, accuracy 0.6290166974067688\n",
            "Epoch #3: val_loss 0.7619221157442377, val_accuracy 0.7139430642127991\n",
            "\n",
            "\n",
            "Epoch #4\n",
            "Epoch #4: loss 0.9433829368088718, accuracy 0.6335500478744507\n",
            "Epoch #4: val_loss 0.7170983689699283, val_accuracy 0.7287356853485107\n",
            "\n",
            "\n",
            "Epoch #5\n",
            "Epoch #5: loss 0.9257587323016818, accuracy 0.6407833099365234\n",
            "Epoch #5: val_loss 0.7268596408873029, val_accuracy 0.7047976851463318\n",
            "\n",
            "\n",
            "Epoch #6\n",
            "Epoch #6: loss 0.9094315146487892, accuracy 0.6478000283241272\n",
            "Epoch #6: val_loss 0.7073994881286966, val_accuracy 0.7242379188537598\n",
            "\n",
            "\n",
            "Epoch #7\n",
            "Epoch #7: loss 0.9067651407292358, accuracy 0.6485167145729065\n",
            "Epoch #7: val_loss 0.7875612636398859, val_accuracy 0.662418782711029\n",
            "\n",
            "\n",
            "Epoch #8\n",
            "Epoch #8: loss 0.9168523298921492, accuracy 0.6452500820159912\n",
            "Epoch #8: val_loss 0.7524977071596785, val_accuracy 0.7225887775421143\n",
            "\n",
            "\n",
            "Epoch #9\n",
            "Epoch #9: loss 0.9098026084767634, accuracy 0.6475667953491211\n"
          ]
        },
        {
          "output_type": "stream",
          "name": "stderr",
          "text": [
            "\r 33%|███▎      | 1/3 [02:38<05:16, 158.12s/it]"
          ]
        },
        {
          "output_type": "stream",
          "name": "stdout",
          "text": [
            "Epoch #9: val_loss 0.7684448472169062, val_accuracy 0.6998500823974609\n",
            "\n",
            "\n",
            "Epoch #1\n",
            "Epoch #1: loss 1.4112825118110555, accuracy 0.467350035905838\n",
            "Epoch #1: val_loss 1.112705248559993, val_accuracy 0.5696651935577393\n",
            "\n",
            "\n",
            "Epoch #2\n",
            "Epoch #2: loss 1.2444881878890361, accuracy 0.5044500231742859\n",
            "Epoch #2: val_loss 1.0342524590612752, val_accuracy 0.5839580297470093\n",
            "\n",
            "\n",
            "Epoch #3\n",
            "Epoch #3: loss 1.2500757791671275, accuracy 0.49595004320144653\n",
            "Epoch #3: val_loss 1.037955346995748, val_accuracy 0.5659670233726501\n",
            "\n",
            "\n",
            "Epoch #4\n",
            "Epoch #4: loss 1.1990094164816434, accuracy 0.5200167298316956\n",
            "Epoch #4: val_loss 0.9264939640598352, val_accuracy 0.6241379380226135\n",
            "\n",
            "\n",
            "Epoch #5\n",
            "Epoch #5: loss 1.1390288612581836, accuracy 0.5476833581924438\n",
            "Epoch #5: val_loss 0.9823048277776882, val_accuracy 0.6231884360313416\n",
            "\n",
            "\n",
            "Epoch #6\n",
            "Epoch #6: loss 1.1229916347134496, accuracy 0.5578500032424927\n",
            "Epoch #6: val_loss 0.8946132903279372, val_accuracy 0.6405297517776489\n",
            "\n",
            "\n",
            "Epoch #7\n",
            "Epoch #7: loss 1.1136646305455218, accuracy 0.5618166923522949\n",
            "Epoch #7: val_loss 0.8797453904060036, val_accuracy 0.669715166091919\n",
            "\n",
            "\n",
            "Epoch #8\n",
            "Epoch #8: loss 1.1204327767445725, accuracy 0.5586333274841309\n",
            "Epoch #8: val_loss 0.8946878150261502, val_accuracy 0.6289355158805847\n",
            "\n",
            "\n",
            "Epoch #9\n",
            "Epoch #9: loss 1.1121320362628453, accuracy 0.560116708278656\n"
          ]
        },
        {
          "output_type": "stream",
          "name": "stderr",
          "text": [
            "\r 67%|██████▋   | 2/3 [05:12<02:35, 155.97s/it]"
          ]
        },
        {
          "output_type": "stream",
          "name": "stdout",
          "text": [
            "Epoch #9: val_loss 0.9714313997369286, val_accuracy 0.6284357905387878\n",
            "\n",
            "\n",
            "Epoch #1\n",
            "Epoch #1: loss 1.4546463007337873, accuracy 0.44083335995674133\n",
            "Epoch #1: val_loss 1.1639814320081956, val_accuracy 0.5186406970024109\n",
            "\n",
            "\n",
            "Epoch #2\n",
            "Epoch #2: loss 1.2407017468475012, accuracy 0.5029500126838684\n",
            "Epoch #2: val_loss 1.085856858830135, val_accuracy 0.5388805866241455\n",
            "\n",
            "\n",
            "Epoch #3\n",
            "Epoch #3: loss 1.2114298499841438, accuracy 0.5186000466346741\n",
            "Epoch #3: val_loss 0.9718574826307254, val_accuracy 0.6027986407279968\n",
            "\n",
            "\n",
            "Epoch #4\n",
            "Epoch #4: loss 1.1901176703928196, accuracy 0.5260500311851501\n",
            "Epoch #4: val_loss 1.0023425087803879, val_accuracy 0.6064968109130859\n",
            "\n",
            "\n",
            "Epoch #5\n",
            "Epoch #5: loss 1.1851218100383272, accuracy 0.5244500041007996\n",
            "Epoch #5: val_loss 0.9595283431243746, val_accuracy 0.6323338747024536\n",
            "\n",
            "\n",
            "Epoch #6\n",
            "Epoch #6: loss 1.1765701732574203, accuracy 0.531499981880188\n",
            "Epoch #6: val_loss 0.9360146032213255, val_accuracy 0.6229385137557983\n",
            "\n",
            "\n",
            "Epoch #7\n",
            "Epoch #7: loss 1.180199308887745, accuracy 0.529449999332428\n",
            "Epoch #7: val_loss 0.9659974548037461, val_accuracy 0.6118440628051758\n",
            "\n",
            "\n",
            "Epoch #8\n",
            "Epoch #8: loss 1.1666932550954379, accuracy 0.5325666666030884\n",
            "Epoch #8: val_loss 0.9396749526807282, val_accuracy 0.6006497144699097\n",
            "\n",
            "\n",
            "Epoch #9\n",
            "Epoch #9: loss 1.180185900563798, accuracy 0.5304999947547913\n"
          ]
        },
        {
          "output_type": "stream",
          "name": "stderr",
          "text": [
            "100%|██████████| 3/3 [07:45<00:00, 155.28s/it]"
          ]
        },
        {
          "output_type": "stream",
          "name": "stdout",
          "text": [
            "Epoch #9: val_loss 0.9276024946476588, val_accuracy 0.6257871389389038\n",
            "\n"
          ]
        },
        {
          "output_type": "stream",
          "name": "stderr",
          "text": [
            "\n"
          ]
        }
      ]
    },
    {
      "cell_type": "code",
      "source": [
        "experiment(9, 7)"
      ],
      "metadata": {
        "colab": {
          "base_uri": "https://localhost:8080/"
        },
        "id": "PUNWC85iSyQF",
        "outputId": "acfb5875-a9c8-4f51-9a84-2dcb9ecd6495"
      },
      "execution_count": 363,
      "outputs": [
        {
          "output_type": "stream",
          "name": "stderr",
          "text": [
            "\r  0%|          | 0/3 [00:00<?, ?it/s]"
          ]
        },
        {
          "output_type": "stream",
          "name": "stdout",
          "text": [
            "\n",
            "Epoch #1\n",
            "Epoch #1: loss 0.6540312594319387, accuracy 0.7676334381103516\n",
            "Epoch #1: val_loss 0.5142162593621348, val_accuracy 0.8160420656204224\n",
            "\n",
            "\n",
            "Epoch #2\n",
            "Epoch #2: loss 0.5145618482035034, accuracy 0.8186001181602478\n",
            "Epoch #2: val_loss 0.5044976330702293, val_accuracy 0.8303848505020142\n",
            "\n",
            "\n",
            "Epoch #3\n",
            "Epoch #3: loss 0.4767586398946067, accuracy 0.8323500752449036\n",
            "Epoch #3: val_loss 0.47764609558651017, val_accuracy 0.8335832357406616\n",
            "\n",
            "\n",
            "Epoch #4\n",
            "Epoch #4: loss 0.4570767659859993, accuracy 0.8402168154716492\n",
            "Epoch #4: val_loss 0.44718902690845963, val_accuracy 0.8439780473709106\n",
            "\n",
            "\n",
            "Epoch #5\n",
            "Epoch #5: loss 0.43987903471122763, accuracy 0.845750093460083\n",
            "Epoch #5: val_loss 0.44170390372662044, val_accuracy 0.8458272218704224\n",
            "\n",
            "\n",
            "Epoch #6\n",
            "Epoch #6: loss 0.43354617654067534, accuracy 0.8509334921836853\n",
            "Epoch #6: val_loss 0.4917923030006741, val_accuracy 0.8264868259429932\n",
            "\n",
            "\n",
            "Epoch #7\n",
            "Epoch #7: loss 0.419993749411678, accuracy 0.8532501459121704\n",
            "Epoch #7: val_loss 0.45755172826770557, val_accuracy 0.842778742313385\n",
            "\n",
            "\n",
            "Epoch #8\n",
            "Epoch #8: loss 0.4167204229131378, accuracy 0.8548834323883057\n",
            "Epoch #8: val_loss 0.431491345563338, val_accuracy 0.8494753241539001\n",
            "\n",
            "\n",
            "Epoch #9\n",
            "Epoch #9: loss 0.4053276227576259, accuracy 0.8575667142868042\n"
          ]
        },
        {
          "output_type": "stream",
          "name": "stderr",
          "text": [
            "\r 33%|███▎      | 1/3 [02:55<05:51, 175.92s/it]"
          ]
        },
        {
          "output_type": "stream",
          "name": "stdout",
          "text": [
            "Epoch #9: val_loss 0.4547018755487086, val_accuracy 0.852173924446106\n",
            "\n",
            "\n",
            "Epoch #1\n",
            "Epoch #1: loss 0.6862255934129332, accuracy 0.7557167410850525\n",
            "Epoch #1: val_loss 0.5357312748360393, val_accuracy 0.8035982251167297\n",
            "\n",
            "\n",
            "Epoch #2\n",
            "Epoch #2: loss 0.5356023278637992, accuracy 0.8107667565345764\n",
            "Epoch #2: val_loss 0.5637514754575861, val_accuracy 0.8057971000671387\n",
            "\n",
            "\n",
            "Epoch #3\n",
            "Epoch #3: loss 0.5056237624036852, accuracy 0.822650134563446\n",
            "Epoch #3: val_loss 0.49528612807665634, val_accuracy 0.8221389651298523\n",
            "\n",
            "\n",
            "Epoch #4\n",
            "Epoch #4: loss 0.4785303250454243, accuracy 0.8323167562484741\n",
            "Epoch #4: val_loss 0.5090039372690893, val_accuracy 0.8215892314910889\n",
            "\n",
            "\n",
            "Epoch #5\n",
            "Epoch #5: loss 0.4624970075149729, accuracy 0.8399500846862793\n",
            "Epoch #5: val_loss 0.5325922255572881, val_accuracy 0.7977511882781982\n",
            "\n",
            "\n",
            "Epoch #6\n",
            "Epoch #6: loss 0.44970971229702444, accuracy 0.8439834713935852\n",
            "Epoch #6: val_loss 0.48527393379700856, val_accuracy 0.8375312685966492\n",
            "\n",
            "\n",
            "Epoch #7\n",
            "Epoch #7: loss 0.4398826417066158, accuracy 0.8475167751312256\n",
            "Epoch #7: val_loss 0.44573973530415784, val_accuracy 0.8451274633407593\n",
            "\n",
            "\n",
            "Epoch #8\n",
            "Epoch #8: loss 0.43203174484839957, accuracy 0.850800096988678\n",
            "Epoch #8: val_loss 0.4541359714340024, val_accuracy 0.8467267155647278\n",
            "\n",
            "\n",
            "Epoch #9\n",
            "Epoch #9: loss 0.42453512041099867, accuracy 0.8537834286689758\n"
          ]
        },
        {
          "output_type": "stream",
          "name": "stderr",
          "text": [
            "\r 67%|██████▋   | 2/3 [05:51<02:55, 175.67s/it]"
          ]
        },
        {
          "output_type": "stream",
          "name": "stdout",
          "text": [
            "Epoch #9: val_loss 0.4405047303587747, val_accuracy 0.8475263118743896\n",
            "\n",
            "\n",
            "Epoch #1\n",
            "Epoch #1: loss 0.6467169968721117, accuracy 0.7682334184646606\n",
            "Epoch #1: val_loss 0.5227634662068561, val_accuracy 0.8063468933105469\n",
            "\n",
            "\n",
            "Epoch #2\n",
            "Epoch #2: loss 0.5066893162391445, accuracy 0.8220334649085999\n",
            "Epoch #2: val_loss 0.46436825776254154, val_accuracy 0.8331335186958313\n",
            "\n",
            "\n",
            "Epoch #3\n",
            "Epoch #3: loss 0.47900170391215513, accuracy 0.8319501280784607\n",
            "Epoch #3: val_loss 0.44895212018080877, val_accuracy 0.8382310271263123\n",
            "\n",
            "\n",
            "Epoch #4\n",
            "Epoch #4: loss 0.453196803569963, accuracy 0.8404001593589783\n",
            "Epoch #4: val_loss 0.46774119091708083, val_accuracy 0.8377811908721924\n",
            "\n",
            "\n",
            "Epoch #5\n",
            "Epoch #5: loss 0.44037623932738823, accuracy 0.8459001183509827\n",
            "Epoch #5: val_loss 0.5028707891912091, val_accuracy 0.8298852443695068\n",
            "\n",
            "\n",
            "Epoch #6\n",
            "Epoch #6: loss 0.43179500970718504, accuracy 0.8481501340866089\n",
            "Epoch #6: val_loss 0.44779379254593393, val_accuracy 0.8368815779685974\n",
            "\n",
            "\n",
            "Epoch #7\n",
            "Epoch #7: loss 0.42477717471475535, accuracy 0.8509500622749329\n",
            "Epoch #7: val_loss 0.5134195467129314, val_accuracy 0.8134433627128601\n",
            "\n",
            "\n",
            "Epoch #8\n",
            "Epoch #8: loss 0.4119612980445876, accuracy 0.8552834391593933\n",
            "Epoch #8: val_loss 0.4275171583168197, val_accuracy 0.8514742851257324\n",
            "\n",
            "\n",
            "Epoch #9\n",
            "Epoch #9: loss 0.4059906669276302, accuracy 0.8543000221252441\n"
          ]
        },
        {
          "output_type": "stream",
          "name": "stderr",
          "text": [
            "100%|██████████| 3/3 [08:47<00:00, 175.78s/it]"
          ]
        },
        {
          "output_type": "stream",
          "name": "stdout",
          "text": [
            "Epoch #9: val_loss 0.41198148201284424, val_accuracy 0.8523238301277161\n",
            "\n"
          ]
        },
        {
          "output_type": "stream",
          "name": "stderr",
          "text": [
            "\n"
          ]
        }
      ]
    },
    {
      "cell_type": "code",
      "source": [
        "experiment(9, 9)"
      ],
      "metadata": {
        "colab": {
          "base_uri": "https://localhost:8080/"
        },
        "id": "bg_rBkMvSz5e",
        "outputId": "4cb09f29-349e-4c8b-a855-46f642fe739f"
      },
      "execution_count": 364,
      "outputs": [
        {
          "output_type": "stream",
          "name": "stderr",
          "text": [
            "\r  0%|          | 0/3 [00:00<?, ?it/s]"
          ]
        },
        {
          "output_type": "stream",
          "name": "stdout",
          "text": [
            "\n",
            "Epoch #1\n",
            "Epoch #1: loss 0.6201717006200123, accuracy 0.7781000733375549\n",
            "Epoch #1: val_loss 0.5317514727898092, val_accuracy 0.7970514893531799\n",
            "\n",
            "\n",
            "Epoch #2\n",
            "Epoch #2: loss 0.4842625640602869, accuracy 0.8283501267433167\n",
            "Epoch #2: val_loss 0.45854581403362976, val_accuracy 0.8379311561584473\n",
            "\n",
            "\n",
            "Epoch #3\n",
            "Epoch #3: loss 0.45292836488222904, accuracy 0.8394500613212585\n",
            "Epoch #3: val_loss 0.47456889595664875, val_accuracy 0.8286856412887573\n",
            "\n",
            "\n",
            "Epoch #4\n",
            "Epoch #4: loss 0.4313784098859872, accuracy 0.8485500812530518\n",
            "Epoch #4: val_loss 0.4399648178442756, val_accuracy 0.8442779779434204\n",
            "\n",
            "\n",
            "Epoch #5\n",
            "Epoch #5: loss 0.41682495371846606, accuracy 0.8510500192642212\n",
            "Epoch #5: val_loss 0.43853369304935674, val_accuracy 0.8507246375083923\n",
            "\n",
            "\n",
            "Epoch #6\n",
            "Epoch #6: loss 0.4072506699718813, accuracy 0.8549500703811646\n",
            "Epoch #6: val_loss 0.49065559043203455, val_accuracy 0.8141928911209106\n",
            "\n",
            "\n",
            "Epoch #7\n",
            "Epoch #7: loss 0.3960848498754526, accuracy 0.8602167367935181\n",
            "Epoch #7: val_loss 0.4277916785448747, val_accuracy 0.8576212525367737\n",
            "\n",
            "\n",
            "Epoch #8\n",
            "Epoch #8: loss 0.38695511676446104, accuracy 0.8628500699996948\n",
            "Epoch #8: val_loss 0.4376717446795683, val_accuracy 0.8456773161888123\n",
            "\n",
            "\n",
            "Epoch #9\n",
            "Epoch #9: loss 0.38190543823193773, accuracy 0.8640667796134949\n"
          ]
        },
        {
          "output_type": "stream",
          "name": "stderr",
          "text": [
            "\r 33%|███▎      | 1/3 [03:16<06:33, 196.96s/it]"
          ]
        },
        {
          "output_type": "stream",
          "name": "stdout",
          "text": [
            "Epoch #9: val_loss 0.4209449221542552, val_accuracy 0.8576712608337402\n",
            "\n",
            "\n",
            "Epoch #1\n",
            "Epoch #1: loss 0.6583700348999382, accuracy 0.7645167112350464\n",
            "Epoch #1: val_loss 0.4939591578757902, val_accuracy 0.8247877359390259\n",
            "\n",
            "\n",
            "Epoch #2\n",
            "Epoch #2: loss 0.4867011445260658, accuracy 0.8277333974838257\n",
            "Epoch #2: val_loss 0.4633115332853886, val_accuracy 0.8386808037757874\n",
            "\n",
            "\n",
            "Epoch #3\n",
            "Epoch #3: loss 0.44724757174715063, accuracy 0.8424667119979858\n",
            "Epoch #3: val_loss 0.4453319263959583, val_accuracy 0.8442779183387756\n",
            "\n",
            "\n",
            "Epoch #4\n",
            "Epoch #4: loss 0.425449666225482, accuracy 0.8511834144592285\n",
            "Epoch #4: val_loss 0.4424560825329459, val_accuracy 0.8447777032852173\n",
            "\n",
            "\n",
            "Epoch #5\n",
            "Epoch #5: loss 0.41450643570917795, accuracy 0.8530500531196594\n",
            "Epoch #5: val_loss 0.4252105464666511, val_accuracy 0.8498750925064087\n",
            "\n",
            "\n",
            "Epoch #6\n",
            "Epoch #6: loss 0.4009832000011877, accuracy 0.8586000800132751\n",
            "Epoch #6: val_loss 0.43321043271781245, val_accuracy 0.8391805291175842\n",
            "\n",
            "\n",
            "Epoch #7\n",
            "Epoch #7: loss 0.39008161882134107, accuracy 0.8626834154129028\n",
            "Epoch #7: val_loss 0.4261914342854514, val_accuracy 0.8562220335006714\n",
            "\n",
            "\n",
            "Epoch #8\n",
            "Epoch #8: loss 0.38516029680205416, accuracy 0.8650834560394287\n",
            "Epoch #8: val_loss 0.42558698500856396, val_accuracy 0.8487256169319153\n",
            "\n",
            "\n",
            "Epoch #9\n",
            "Epoch #9: loss 0.37737422044380436, accuracy 0.8669000864028931\n"
          ]
        },
        {
          "output_type": "stream",
          "name": "stderr",
          "text": [
            "\r 67%|██████▋   | 2/3 [06:39<03:20, 200.45s/it]"
          ]
        },
        {
          "output_type": "stream",
          "name": "stdout",
          "text": [
            "Epoch #9: val_loss 0.4156507250593902, val_accuracy 0.8559720516204834\n",
            "\n",
            "\n",
            "Epoch #1\n",
            "Epoch #1: loss 0.6216406401692166, accuracy 0.777183473110199\n",
            "Epoch #1: val_loss 0.5130542438707093, val_accuracy 0.8157921433448792\n",
            "\n",
            "\n",
            "Epoch #2\n",
            "Epoch #2: loss 0.48485107488607626, accuracy 0.8294833898544312\n",
            "Epoch #2: val_loss 0.47259321431387613, val_accuracy 0.8242879509925842\n",
            "\n",
            "\n",
            "Epoch #3\n",
            "Epoch #3: loss 0.45300796960105005, accuracy 0.8416834473609924\n",
            "Epoch #3: val_loss 0.4421921450780265, val_accuracy 0.8424788117408752\n",
            "\n",
            "\n",
            "Epoch #4\n",
            "Epoch #4: loss 0.4334037729971739, accuracy 0.8468500971794128\n",
            "Epoch #4: val_loss 0.434832048635681, val_accuracy 0.8459770679473877\n",
            "\n",
            "\n",
            "Epoch #5\n",
            "Epoch #5: loss 0.42252501549058263, accuracy 0.8512501120567322\n",
            "Epoch #5: val_loss 0.439975780515464, val_accuracy 0.8442779779434204\n",
            "\n",
            "\n",
            "Epoch #6\n",
            "Epoch #6: loss 0.4100375215622217, accuracy 0.8553500771522522\n",
            "Epoch #6: val_loss 0.4215712983889952, val_accuracy 0.8492754697799683\n",
            "\n",
            "\n",
            "Epoch #7\n",
            "Epoch #7: loss 0.4010182776750525, accuracy 0.858866810798645\n",
            "Epoch #7: val_loss 0.4342313440433034, val_accuracy 0.8514742851257324\n",
            "\n",
            "\n",
            "Epoch #8\n",
            "Epoch #8: loss 0.39410837669496723, accuracy 0.8592666983604431\n",
            "Epoch #8: val_loss 0.4506736952280599, val_accuracy 0.8331335186958313\n",
            "\n",
            "\n",
            "Epoch #9\n",
            "Epoch #9: loss 0.3864658654841696, accuracy 0.8631001114845276\n"
          ]
        },
        {
          "output_type": "stream",
          "name": "stderr",
          "text": [
            "100%|██████████| 3/3 [10:26<00:00, 208.69s/it]"
          ]
        },
        {
          "output_type": "stream",
          "name": "stdout",
          "text": [
            "Epoch #9: val_loss 0.4155736806994552, val_accuracy 0.8546727299690247\n",
            "\n"
          ]
        },
        {
          "output_type": "stream",
          "name": "stderr",
          "text": [
            "\n"
          ]
        }
      ]
    },
    {
      "cell_type": "code",
      "source": [
        "metrics = dict(sorted(metrics.items()))\n",
        "plt.figure(figsize=(16, 8))\n",
        "for i, gr in enumerate(['accuracies', 'val_accuracies', 'losses', 'val_losses']):\n",
        "    for pair in metrics:\n",
        "        plt.subplot(2, 2, i + 1)\n",
        "        plt.plot(metrics[pair][gr], label=f\"n_ep={pair[0]}, n_lay={pair[1]}\")\n",
        "        plt.title(gr)\n",
        "        plt.legend()\n",
        "plt.show()"
      ],
      "metadata": {
        "colab": {
          "base_uri": "https://localhost:8080/",
          "height": 699
        },
        "id": "GGrOeWCHxyIg",
        "outputId": "531b6e4e-18ba-451b-9796-82e593a8dd86"
      },
      "execution_count": 370,
      "outputs": [
        {
          "output_type": "display_data",
          "data": {
            "text/plain": [
              "<Figure size 1600x800 with 4 Axes>"
            ],
            "image/png": "[encoded data removed]"
          },
          "metadata": {}
        }
      ]
    },
    {
      "cell_type": "markdown",
      "source": [
        "### **Выводы**:\n",
        "1. Пять слоев (Linear, ReLU, Dropout, Linear, LogSoftmax) дают не очень хорошие результаты *loss* и *accuracy* (а еще переобучаются при большом кол-ве эпох).\n",
        "2. Пять эпох обучения недостаточно.\n",
        "3. Лучшие значения *val_loss* и *val_accuracy* при **девяти слоях** (Linear, ReLU, Linear, ReLU, Linear, ReLU, Dropout, Linear, LogSoftmax) и **девяти эпохах обучения** (<font color='#c3c43b'>желто-зеленая</font> линия). При этом на семи слоях (Linear, ReLU, Linear, ReLU, Dropout, Linear, LogSoftmax) и девяти эпохах уже ничего особо не меняется, поэтому, кажется, наращивать слои уже нет особого смысла.\n",
        "\n",
        "![conclusions](https://sun9-14.userapi.com/impg/WaSf8TC3UX0qAFuCn0m4IurTcnXeh5Lsp0z99A/bNhKh1fVADI.jpg?size=510x454&quality=96&sign=51ec696db526a8447f806bcae66da753&type=album)"
      ],
      "metadata": {
        "id": "emym8jMDsZBC"
      }
    }
  ],
  "metadata": {
    "accelerator": "GPU",
    "colab": {
      "provenance": [],
      "gpuType": "T4"
    },
    "kernelspec": {
      "display_name": "Python 3",
      "name": "python3"
    },
    "language_info": {
      "codemirror_mode": {
        "name": "ipython",
        "version": 3
      },
      "file_extension": ".py",
      "mimetype": "text/x-python",
      "name": "python",
      "nbconvert_exporter": "python",
      "pygments_lexer": "ipython3",
      "version": "3.7.16"
    },
    "vscode": {
      "interpreter": {
        "hash": "92d26938485ea6bea67bf2e2bb4662b06e39d7cc20cef26f940ca706eab939d3"
      }
    }
  },
  "nbformat": 4,
  "nbformat_minor": 0
}